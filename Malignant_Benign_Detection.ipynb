{
 "cells": [
  {
   "cell_type": "code",
   "execution_count": 3,
   "id": "c3ef6737",
   "metadata": {},
   "outputs": [],
   "source": [
    "import os\n",
    "import time\n",
    "import scipy\n",
    "import itertools\n",
    "import numpy as np\n",
    "import pandas as pd\n",
    "import tensorflow as tf\n",
    "from threading import Thread\n",
    "from tensorflow import keras\n",
    "import matplotlib.pyplot as plt\n",
    "from PIL import Image, ImageFilter\n",
    "from keras.preprocessing import image\n",
    "from keras.preprocessing.image import ImageDataGenerator"
   ]
  },
  {
   "cell_type": "markdown",
   "id": "124e0845",
   "metadata": {},
   "source": [
    "This code defines a DataExtractor class that processes image data for machine learning. \n",
    "It initializes lists for benign and malignant images, and launches threads to process images concurrently. \n",
    "Images are resized, denoised, and normalized. Threading is used for parallel processing, enhancing performance when handling large datasets."
   ]
  },
  {
   "cell_type": "code",
   "execution_count": 4,
   "id": "f905ae55",
   "metadata": {},
   "outputs": [],
   "source": [
    "class DataExtractor:\n",
    "    def __init__(self, mode):\n",
    "        self._benign = []\n",
    "        self._malignant = []\n",
    "        self._threads = []\n",
    "        if mode == 0:\n",
    "            self.extract(\"Train/Benign/\", 0)\n",
    "            self.extract(\"Train/Malignant/\", 1)\n",
    "            \n",
    "        elif mode == 1:\n",
    "            self.extract(\"Test/Benign/\", 0)\n",
    "            self.extract(\"Test/Malignant/\", 1)\n",
    "        \n",
    "    def extract_helper(self, image_file, folder, label):\n",
    "        image_path = os.path.join(folder, image_file)\n",
    "        img = Image.open(image_path)\n",
    "        \n",
    "        # resize and interpolate with Bicubic method\n",
    "        img = img.resize((64, 64), Image.BICUBIC)\n",
    "        # image denoising\n",
    "        img = img.filter(ImageFilter.BLUR)\n",
    "        img = img.filter(ImageFilter.MinFilter(3))\n",
    "        img = img.filter(ImageFilter.MinFilter)\n",
    "\n",
    "        if label == 0:\n",
    "            self._benign.append(np.array(img)/255.0)\n",
    "        else:\n",
    "            self._malignant.append(np.array(img)/255.0)\n",
    "\n",
    "    def extract(self, folder, label):\n",
    "        image_files = os.listdir(folder)\n",
    "        for image_file in image_files:\n",
    "            t = Thread(target = self.extract_helper, args = (image_file, folder, label ))\n",
    "            self._threads.append(t)\n",
    "            t.start()\n",
    "        for t in self._threads:\n",
    "            t.join()"
   ]
  },
  {
   "cell_type": "markdown",
   "id": "2a37fb27",
   "metadata": {},
   "source": [
    "The DataManager class manages image data extracted by DataExtractor, facilitates data augmentation, and converts data into TensorFlow tensors for machine learning. It utilizes threads to parallelize the augmentation process, enhancing efficiency, but lacks exception handling and may pose memory challenges with large datasets."
   ]
  },
  {
   "cell_type": "code",
   "execution_count": 5,
   "id": "9631371f",
   "metadata": {},
   "outputs": [],
   "source": [
    "class DataManager:\n",
    "    def __init__(self, mode):\n",
    "        self._dataExtractor = DataExtractor(mode)\n",
    "        self._benign, self._malignant = self._dataExtractor._benign, self._dataExtractor._malignant\n",
    "        self._threads = []\n",
    "        #self.augmentMain(5)\n",
    "        \n",
    "    def returnAsTensor(self,batchSize):\n",
    "        dataConcat = (self._benign + self._malignant, [0] * len(self._benign) + [1] * len(self._malignant))\n",
    "        return tf.data.Dataset.from_tensor_slices(dataConcat).batch(batchSize)\n",
    "        \n",
    "    def augmentMain(self, augmentation_factor):\n",
    "        dataGenerator = ImageDataGenerator(\n",
    "            rotation_range=20,\n",
    "            width_shift_range=0.1,\n",
    "            height_shift_range=0.1,\n",
    "            shear_range=0.2,\n",
    "            zoom_range=0.2,\n",
    "            horizontal_flip=True,\n",
    "            vertical_flip=True,\n",
    "            fill_mode='nearest')\n",
    "        threads_num = 0\n",
    "        for img in self._benign:\n",
    "            t1 = Thread(target = self.augmentBenign, args = (img, dataGenerator))\n",
    "            self._threads.append(t1)\n",
    "            t1.start()\n",
    "        threads_num = 0\n",
    "        for img in self._malignant:\n",
    "            t2 = Thread(target = self.augmentMalignant, args = (img, dataGenerator))\n",
    "            self._threads.append(t2)\n",
    "            t2.start()\n",
    "            \n",
    "        for t in self._threads:\n",
    "            t.join()\n",
    "    def augmentBenign(self, img, dataImgGen):\n",
    "        img_data = np.expand_dims(img, axis=0)\n",
    "        augmented_images = dataImgGen.flow(img_data, batch_size=1)\n",
    "        augmentedImage = augmented_images.next()[0]\n",
    "        self._benign.append(augmentedImage)\n",
    "        \n",
    "    def augmentMalignant(self, img, dataImgGen):\n",
    "        img_data = np.expand_dims(img, axis=0)\n",
    "        augmented_images = dataImgGen.flow(img_data, batch_size=1)\n",
    "        augmentedImage = augmented_images.next()[0]\n",
    "        self._malignant.append(augmentedImage)   "
   ]
  },
  {
   "cell_type": "markdown",
   "id": "83e36c4d",
   "metadata": {},
   "source": [
    "The convModel class initializes a convolutional neural network (CNN) model for binary image classification. It defines the architecture of the model with convolutional and dense layers, compiles it with specified optimizer and loss functions, and fits it to training data while validating with testing data. The architecture includes convolutional layers for feature extraction and dense layers for classification, adhering to standard CNN principles."
   ]
  },
  {
   "cell_type": "code",
   "execution_count": 6,
   "id": "32c819c1",
   "metadata": {},
   "outputs": [],
   "source": [
    "class convModel:\n",
    "    def __init__(self):\n",
    "        self._className = ['Benign', 'Malignant']\n",
    "        self._trainDataManager= DataManager(0)\n",
    "        self._testDataManager = DataManager(1)\n",
    "        \n",
    "        self._trainData = self._trainDataManager.returnAsTensor(64).shuffle(12000)\n",
    "        self._testData = self._testDataManager.returnAsTensor(64).shuffle(6000)\n",
    "        \n",
    "        self._model = keras.models.Sequential()\n",
    "        self.arhitecture()\n",
    "        self._model.summary()\n",
    "        \n",
    "        self.fittingData()\n",
    "        \n",
    "        \n",
    "    def arhitecture(self):\n",
    "        # Convolutional layers\n",
    "        self._model.add(keras.layers.Conv2D(64, (2, 2), activation='relu', input_shape=(64, 64, 3)))\n",
    "        self._model.add(keras.layers.MaxPooling2D((2, 2)))\n",
    "        self._model.add(keras.layers.Conv2D(128, (2, 2), activation='relu'))\n",
    "        self._model.add(keras.layers.MaxPooling2D((2, 2)))\n",
    "        self._model.add(keras.layers.Conv2D(64, (2, 2), activation='relu'))\n",
    "        self._model.add(keras.layers.MaxPooling2D((2, 2)))\n",
    "        self._model.add(keras.layers.Conv2D(64, (2, 2), activation='relu'))\n",
    "\n",
    "        # Dense layers\n",
    "        self._model.add(keras.layers.Flatten())\n",
    "        self._model.add(keras.layers.Dense(64, activation='relu'))\n",
    "        self._model.add(keras.layers.Dense(1, activation='sigmoid'))\n",
    "\n",
    "        self._model.compile(optimizer=tf.keras.optimizers.legacy.Adam(learning_rate=0.0001),\n",
    "                            loss=tf.keras.losses.BinaryCrossentropy(),\n",
    "                            metrics=['accuracy'])\n",
    "        \n",
    "    def fittingData(self):\n",
    "        self._model.fit(self._trainData, epochs=12, validation_data = self._testData, shuffle = True)"
   ]
  },
  {
   "cell_type": "code",
   "execution_count": 7,
   "id": "7ae600d6",
   "metadata": {},
   "outputs": [
    {
     "name": "stderr",
     "output_type": "stream",
     "text": [
      "2024-02-29 12:07:46.154665: I metal_plugin/src/device/metal_device.cc:1154] Metal device set to: Apple M1\n",
      "2024-02-29 12:07:46.154706: I metal_plugin/src/device/metal_device.cc:296] systemMemory: 8.00 GB\n",
      "2024-02-29 12:07:46.154714: I metal_plugin/src/device/metal_device.cc:313] maxCacheSize: 2.67 GB\n",
      "2024-02-29 12:07:46.155015: I tensorflow/core/common_runtime/pluggable_device/pluggable_device_factory.cc:306] Could not identify NUMA node of platform GPU ID 0, defaulting to 0. Your kernel may not have been built with NUMA support.\n",
      "2024-02-29 12:07:46.155501: I tensorflow/core/common_runtime/pluggable_device/pluggable_device_factory.cc:272] Created TensorFlow device (/job:localhost/replica:0/task:0/device:GPU:0 with 0 MB memory) -> physical PluggableDevice (device: 0, name: METAL, pci bus id: <undefined>)\n"
     ]
    },
    {
     "name": "stdout",
     "output_type": "stream",
     "text": [
      "Model: \"sequential\"\n",
      "_________________________________________________________________\n",
      " Layer (type)                Output Shape              Param #   \n",
      "=================================================================\n",
      " conv2d (Conv2D)             (None, 63, 63, 64)        832       \n",
      "                                                                 \n",
      " max_pooling2d (MaxPooling2  (None, 31, 31, 64)        0         \n",
      " D)                                                              \n",
      "                                                                 \n",
      " conv2d_1 (Conv2D)           (None, 30, 30, 128)       32896     \n",
      "                                                                 \n",
      " max_pooling2d_1 (MaxPoolin  (None, 15, 15, 128)       0         \n",
      " g2D)                                                            \n",
      "                                                                 \n",
      " conv2d_2 (Conv2D)           (None, 14, 14, 64)        32832     \n",
      "                                                                 \n",
      " max_pooling2d_2 (MaxPoolin  (None, 7, 7, 64)          0         \n",
      " g2D)                                                            \n",
      "                                                                 \n",
      " conv2d_3 (Conv2D)           (None, 6, 6, 64)          16448     \n",
      "                                                                 \n",
      " flatten (Flatten)           (None, 2304)              0         \n",
      "                                                                 \n",
      " dense (Dense)               (None, 64)                147520    \n",
      "                                                                 \n",
      " dense_1 (Dense)             (None, 1)                 65        \n",
      "                                                                 \n",
      "=================================================================\n",
      "Total params: 230593 (900.75 KB)\n",
      "Trainable params: 230593 (900.75 KB)\n",
      "Non-trainable params: 0 (0.00 Byte)\n",
      "_________________________________________________________________\n",
      "Epoch 1/12\n"
     ]
    },
    {
     "name": "stderr",
     "output_type": "stream",
     "text": [
      "2024-02-29 12:08:11.051520: I tensorflow/core/grappler/optimizers/custom_graph_optimizer_registry.cc:117] Plugin optimizer for device_type GPU is enabled.\n"
     ]
    },
    {
     "name": "stdout",
     "output_type": "stream",
     "text": [
      "186/186 [==============================] - 9s 42ms/step - loss: 0.6678 - accuracy: 0.5911 - val_loss: 0.6367 - val_accuracy: 0.5835\n",
      "Epoch 2/12\n",
      "186/186 [==============================] - 8s 41ms/step - loss: 0.5571 - accuracy: 0.7204 - val_loss: 0.5722 - val_accuracy: 0.6830\n",
      "Epoch 3/12\n",
      "186/186 [==============================] - 8s 43ms/step - loss: 0.5071 - accuracy: 0.7474 - val_loss: 0.5382 - val_accuracy: 0.7395\n",
      "Epoch 4/12\n",
      "186/186 [==============================] - 7s 37ms/step - loss: 0.4805 - accuracy: 0.7656 - val_loss: 0.5079 - val_accuracy: 0.7450\n",
      "Epoch 5/12\n",
      "186/186 [==============================] - 7s 37ms/step - loss: 0.4711 - accuracy: 0.7723 - val_loss: 0.4945 - val_accuracy: 0.7265\n",
      "Epoch 6/12\n",
      "186/186 [==============================] - 7s 37ms/step - loss: 0.4535 - accuracy: 0.7891 - val_loss: 0.5200 - val_accuracy: 0.7040\n",
      "Epoch 7/12\n",
      "186/186 [==============================] - 7s 39ms/step - loss: 0.4275 - accuracy: 0.8010 - val_loss: 0.4565 - val_accuracy: 0.8105\n",
      "Epoch 8/12\n",
      "186/186 [==============================] - 8s 40ms/step - loss: 0.4044 - accuracy: 0.8115 - val_loss: 0.4576 - val_accuracy: 0.8120\n",
      "Epoch 9/12\n",
      "186/186 [==============================] - 8s 40ms/step - loss: 0.4256 - accuracy: 0.8046 - val_loss: 0.5086 - val_accuracy: 0.7260\n",
      "Epoch 10/12\n",
      "186/186 [==============================] - 8s 39ms/step - loss: 0.4026 - accuracy: 0.8135 - val_loss: 0.3916 - val_accuracy: 0.8295\n",
      "Epoch 11/12\n",
      "186/186 [==============================] - 8s 39ms/step - loss: 0.3910 - accuracy: 0.8171 - val_loss: 0.3888 - val_accuracy: 0.8215\n",
      "Epoch 12/12\n",
      "186/186 [==============================] - 8s 39ms/step - loss: 0.3842 - accuracy: 0.8232 - val_loss: 0.3858 - val_accuracy: 0.8205\n"
     ]
    }
   ],
   "source": [
    "model = convModel()\n"
   ]
  },
  {
   "cell_type": "code",
   "execution_count": 8,
   "id": "599fa56c",
   "metadata": {},
   "outputs": [
    {
     "name": "stdout",
     "output_type": "stream",
     "text": [
      "32/32 - 0s - loss: 0.3858 - accuracy: 0.8205 - 353ms/epoch - 11ms/step\n",
      "0.8205000162124634\n"
     ]
    }
   ],
   "source": [
    "test_loss, test_acc = model._model.evaluate(model._testData, verbose=2)\n",
    "print(test_acc)"
   ]
  },
  {
   "cell_type": "code",
   "execution_count": 9,
   "id": "97e808ae",
   "metadata": {},
   "outputs": [
    {
     "data": {
      "image/png": "[encoded data removed]",
      "text/plain": [
       "<Figure size 640x480 with 1 Axes>"
      ]
     },
     "metadata": {},
     "output_type": "display_data"
    },
    {
     "data": {
      "image/png": "[encoded data removed]",
      "text/plain": [
       "<Figure size 640x480 with 1 Axes>"
      ]
     },
     "metadata": {},
     "output_type": "display_data"
    }
   ],
   "source": [
    "trainDataManager= DataManager(0)    \n",
    "plt.imshow(trainDataManager._benign[0])\n",
    "plt.axis('off')\n",
    "plt.title(\"Benign\")\n",
    "plt.show()\n",
    "plt.imshow(trainDataManager._malignant[20])\n",
    "plt.axis('off')\n",
    "plt.title(\"Malignant\")\n",
    "plt.show()"
   ]
  },
  {
   "cell_type": "code",
   "execution_count": 7,
   "id": "58c60ce3",
   "metadata": {},
   "outputs": [
    {
     "name": "stdout",
     "output_type": "stream",
     "text": [
      "INFO:tensorflow:Assets written to: mymodel1/assets\n"
     ]
    },
    {
     "name": "stderr",
     "output_type": "stream",
     "text": [
      "INFO:tensorflow:Assets written to: mymodel1/assets\n"
     ]
    }
   ],
   "source": [
    "model._model.save(\"mymodel1\")"
   ]
  },
  {
   "cell_type": "markdown",
   "id": "99726238",
   "metadata": {},
   "source": [
    "The function extractor_ext reads images from a given folder, preprocesses them, extracts labels from a CSV file based on image names, and returns training data and labels. Here's a shorter description:\n",
    "\n",
    "The function extractor_ext processes images from a folder for training. It resizes and preprocesses images, extracts labels from a CSV file based on image names, and returns the training data and labels combined.\n",
    "\n",
    "The subsequent lines of code concatenate data and labels from two different folders, forming a larger training dataset, then evaluates the model's performance using the combined data and labels.\n",
    "\n",
    "This approach allows for efficient training with a larger and more diverse dataset by combining images from multiple sources. However, it's important to ensure the integrity and consistency of the data across different folders and CSV files for accurate training and evaluation."
   ]
  },
  {
   "cell_type": "code",
   "execution_count": 9,
   "id": "217f9a40",
   "metadata": {},
   "outputs": [
    {
     "name": "stdout",
     "output_type": "stream",
     "text": [
      "518/518 - 5s - loss: 58.8088 - accuracy: 0.8578 - 5s/epoch - 10ms/step\n"
     ]
    }
   ],
   "source": [
    "def extractor_ext(folder):\n",
    "    _images_data1 = []\n",
    "    _images_data2 = []\n",
    "    dataCSV = pd.read_csv('train.csv')\n",
    "    image_files = os.listdir(folder)\n",
    "    for image_file in image_files:\n",
    "        image_path = os.path.join(folder, image_file)\n",
    "        img = Image.open(image_path)\n",
    "        # resize and interpolate with Bicubic method\n",
    "        img = img.resize((64, 64), Image.BICUBIC)\n",
    "        if img.mode != 'RGB':\n",
    "            img = img.convert('RGB')\n",
    "\n",
    "        # image denoising\n",
    "        img = img.filter(ImageFilter.BLUR)\n",
    "        img = img.filter(ImageFilter.MinFilter(3))\n",
    "        img = img.filter(ImageFilter.MinFilter)\n",
    "\n",
    "        image_name = os.path.splitext(image_file)[0]\n",
    "        image_data = dataCSV[dataCSV['image_name'] == image_name]\n",
    "\n",
    "        label = image_data['target'].values[0]\n",
    "        if label == 0:\n",
    "            _images_data1.append((np.array(img), label))\n",
    "        else:\n",
    "            _images_data2.append((np.array(img), label))\n",
    "    training =  _images_data2 +  _images_data1\n",
    "    training_data = list(map(lambda x: x[0], training))\n",
    "    training_labels = list(map(lambda x: x[1], training))\n",
    "    return training_data, training_labels\n",
    "    \n",
    "data, labels = extractor_ext(\"train_1\")\n",
    "data1, labels1 = extractor_ext(\"train_2\")\n",
    "data += data\n",
    "labels += labels1\n",
    "loss0,accuracy0 = model._model.evaluate(tf.data.Dataset.from_tensor_slices((data, labels)).batch(64), verbose=2)\n"
   ]
  },
  {
   "cell_type": "code",
   "execution_count": 10,
   "id": "006a08fe",
   "metadata": {},
   "outputs": [
    {
     "name": "stdout",
     "output_type": "stream",
     "text": [
      "33126\n"
     ]
    }
   ],
   "source": [
    "print(len(data))"
   ]
  }
 ],
 "metadata": {
  "kernelspec": {
   "display_name": "Python 3 (ipykernel)",
   "language": "python",
   "name": "python3"
  },
  "language_info": {
   "codemirror_mode": {
    "name": "ipython",
    "version": 3
   },
   "file_extension": ".py",
   "mimetype": "text/x-python",
   "name": "python",
   "nbconvert_exporter": "python",
   "pygments_lexer": "ipython3",
   "version": "3.11.7"
  }
 },
 "nbformat": 4,
 "nbformat_minor": 5
}
